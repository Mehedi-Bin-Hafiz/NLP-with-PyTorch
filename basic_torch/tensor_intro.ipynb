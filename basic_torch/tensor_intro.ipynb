{
 "cells": [
  {
   "cell_type": "code",
   "execution_count": 1,
   "id": "ec6d5ad8",
   "metadata": {},
   "outputs": [],
   "source": [
    "import torch"
   ]
  },
  {
   "cell_type": "code",
   "execution_count": 9,
   "id": "2175b999",
   "metadata": {},
   "outputs": [],
   "source": [
    "def describe(x):\n",
    "    print(f\"Type: \",x.type())\n",
    "    print(f\"Shape/Size: \", x.shape)\n",
    "    print(f\"Values: \\n\", x )"
   ]
  },
  {
   "cell_type": "markdown",
   "id": "933b87d6",
   "metadata": {},
   "source": [
    "What is Tensor? \n",
    "Ans: A tensor is a multi-dimensional array/ data structure used in machine learning and deep learning to store data. It's a generalization of scalars (0D), vectors (1D tensor), and matrices (2D tensor) to higher dimensions."
   ]
  },
  {
   "cell_type": "code",
   "execution_count": null,
   "id": "80a546a0",
   "metadata": {},
   "outputs": [
    {
     "name": "stdout",
     "output_type": "stream",
     "text": [
      "Type:  torch.FloatTensor\n",
      "Shape/Size:  torch.Size([2, 3])\n",
      "Values: \n",
      " tensor([[0., 0., 0.],\n",
      "        [0., 0., 0.]])\n"
     ]
    }
   ],
   "source": [
    "describe(torch.Tensor(2, 3)) #two rows three columns"
   ]
  },
  {
   "cell_type": "code",
   "execution_count": null,
   "id": "0a69cd2c",
   "metadata": {},
   "outputs": [
    {
     "name": "stdout",
     "output_type": "stream",
     "text": [
      "Type:  torch.FloatTensor\n",
      "Shape/Size:  torch.Size([2, 3])\n",
      "Values: \n",
      " tensor([[0.9761, 0.5000, 0.6215],\n",
      "        [0.3406, 0.1647, 0.4820]])\n"
     ]
    }
   ],
   "source": [
    "describe(torch.rand(2,3)) #uniform random"
   ]
  },
  {
   "cell_type": "code",
   "execution_count": 12,
   "id": "b23333ef",
   "metadata": {},
   "outputs": [
    {
     "name": "stdout",
     "output_type": "stream",
     "text": [
      "Type:  torch.FloatTensor\n",
      "Shape/Size:  torch.Size([2, 3])\n",
      "Values: \n",
      " tensor([[-3.0781, -0.6609,  0.2185],\n",
      "        [-0.2627, -0.5420, -0.0502]])\n"
     ]
    }
   ],
   "source": [
    "describe(torch.randn(2,3)) #random normal"
   ]
  },
  {
   "cell_type": "markdown",
   "id": "b02a9a48",
   "metadata": {},
   "source": [
    "In PyTorch, when a method has a _ (underscore) at the end, like add_() or relu_(), it means:\n",
    "✅ The tensor will be changed directly — it will not create a new one. It is also known as in place. "
   ]
  },
  {
   "cell_type": "code",
   "execution_count": null,
   "id": "ed399dfb",
   "metadata": {},
   "outputs": [
    {
     "name": "stdout",
     "output_type": "stream",
     "text": [
      "tensor([1., 2.])\n",
      "tensor([2., 3.])\n"
     ]
    }
   ],
   "source": [
    "x = torch.tensor([1.0, 2.0])\n",
    "y = x.add(1)  # This makes a new tensor\n",
    "print(x) \n",
    "print(y) "
   ]
  },
  {
   "cell_type": "code",
   "execution_count": 16,
   "id": "9b2d94b4",
   "metadata": {},
   "outputs": [
    {
     "name": "stdout",
     "output_type": "stream",
     "text": [
      "before add tensor([2., 3.])\n",
      "after add tensor([2., 3.])\n"
     ]
    }
   ],
   "source": [
    "x = torch.tensor([1.0, 2.0])\n",
    "y = x.add_(1)  # This makes a new tensor\n",
    "print(\"before add\", x) \n",
    "print(\"after add\", y) "
   ]
  },
  {
   "cell_type": "code",
   "execution_count": null,
   "id": "96e91540",
   "metadata": {},
   "outputs": [],
   "source": []
  },
  {
   "cell_type": "code",
   "execution_count": null,
   "id": "6daa1435",
   "metadata": {},
   "outputs": [],
   "source": []
  },
  {
   "cell_type": "code",
   "execution_count": null,
   "id": "224673a7",
   "metadata": {},
   "outputs": [],
   "source": []
  },
  {
   "cell_type": "code",
   "execution_count": null,
   "id": "64f0a0f4",
   "metadata": {},
   "outputs": [],
   "source": []
  },
  {
   "cell_type": "code",
   "execution_count": null,
   "id": "282796b7",
   "metadata": {},
   "outputs": [],
   "source": []
  },
  {
   "cell_type": "code",
   "execution_count": null,
   "id": "36df124e",
   "metadata": {},
   "outputs": [],
   "source": []
  }
 ],
 "metadata": {
  "kernelspec": {
   "display_name": "torchVenv",
   "language": "python",
   "name": "torchvenv"
  },
  "language_info": {
   "codemirror_mode": {
    "name": "ipython",
    "version": 3
   },
   "file_extension": ".py",
   "mimetype": "text/x-python",
   "name": "python",
   "nbconvert_exporter": "python",
   "pygments_lexer": "ipython3",
   "version": "3.12.0"
  }
 },
 "nbformat": 4,
 "nbformat_minor": 5
}
